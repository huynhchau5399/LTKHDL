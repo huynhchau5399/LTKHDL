{
 "cells": [
  {
   "cell_type": "markdown",
   "metadata": {},
   "source": [
    "# Đồ án cuối kỳ - Lập trình cho Khoa học dữ liệu\n",
    "**GV: TRẦN TRUNG KIÊN**\n",
    "\n",
    "**GV: PHAN THỊ PHƯƠNG UYÊN**\n",
    "\n"
   ]
  },
  {
   "cell_type": "markdown",
   "metadata": {},
   "source": [
    "**Họ và tên:** Huỳnh Minh Châu\n",
    "\n",
    "**MSSV:** 1712298"
   ]
  },
  {
   "cell_type": "markdown",
   "metadata": {},
   "source": [
    "# Thực hiện đồ án"
   ]
  },
  {
   "cell_type": "markdown",
   "metadata": {},
   "source": [
    "**Giới thiệu đề tài:**\n",
    "Điểm thi kỳ thi THPT QG 2018 và 2017: Tình hình chung và việc gian lận"
   ]
  },
  {
   "cell_type": "code",
   "execution_count": 1,
   "metadata": {},
   "outputs": [],
   "source": [
    "import pandas as pd\n",
    "import numpy as np\n",
    "import matplotlib.pyplot as plt\n",
    "import re"
   ]
  },
  {
   "cell_type": "markdown",
   "metadata": {},
   "source": [
    "## I. Lấy dữ liệu"
   ]
  },
  {
   "cell_type": "markdown",
   "metadata": {},
   "source": [
    "**Dữ liệu điểm thi THPT QG 2017 được lấy từ:** https://vov.vn/xa-hoi/giao-duc/cap-nhat-diem-thi-thpt-quoc-gia-nam-2017-o-cac-dia-phuong-643262.vov\n",
    "\n",
    "Đặc điểm dữ liệu: \n",
    "* Dữ liệu được tách thành nhiều file theo tỉnh\n",
    "* Chỉ có 1 cột 'Điểm' cho điểm của tất cả các môn\n",
    "\n",
    "--> Cần thực hiện bước tiền xử lý dữ liệu\n",
    "\n",
    "\n",
    "**Dữ liệu điểm thi THPT QG 2018 được lấy từ:** https://rpubs.com/chidungkt/625722?utm_source=zalo&utm_medium=zalo&utm_campaign=zalo&zarsrc=31&fbclid=IwAR2SJs93hy50dOBoOY90IE6QXrTL15Q0bFPphO9z1rX0WBpvaMFMXjT2qdE\n",
    "Đặc điểm dữ liệu: \n",
    "* Đã có dữ liệu hoàn chỉnh. \n",
    "* Điểm của các môn sẽ nằm ở các cột khác nhau\n",
    "\n",
    "--> Không cần tiền xử lý dữ liệu"
   ]
  },
  {
   "cell_type": "markdown",
   "metadata": {},
   "source": [
    "## II. Tiền xử lý dữ liệu và khám phá dữ liệu"
   ]
  },
  {
   "cell_type": "markdown",
   "metadata": {},
   "source": [
    "Trong quá trình xử lý dữ liệu, ta sẽ cùng khám phá dữ liệu luôn.\n",
    "\n",
    "Khám phá dữ liệu sẽ được viết tắt thành: ***KPDL***"
   ]
  },
  {
   "cell_type": "markdown",
   "metadata": {},
   "source": [
    "### 1. Xử lý dữ liệu điểm THPTQG 2017"
   ]
  },
  {
   "cell_type": "markdown",
   "metadata": {},
   "source": [
    "**Đọc dữ liệu điểm THPTQG 2017**"
   ]
  },
  {
   "cell_type": "code",
   "execution_count": null,
   "metadata": {},
   "outputs": [],
   "source": [
    "df_1=pd.read_excel(\"1_BaRia_VungTau_HJKG.xls\")\n",
    "df_1['Tỉnh'] = 'Bà Rịa Vũng Tàu'\n",
    "df_2=pd.read_excel(\"1_Da_Nang_AHWJ.xls\")\n",
    "df_2['Tỉnh'] = 'Đà Nẵng'\n",
    "df_3=pd.read_excel(\"1_Ha_Noi_CVXG.xls\")\n",
    "df_3['Tỉnh'] = 'Hà Nội'\n",
    "df_4=pd.read_excel(\"1_Son_La_JIDP.xls\")\n",
    "df_4['Tỉnh'] = 'Sơn La'\n",
    "df_5=pd.read_excel(\"1_TuyenQuang_JBYF.xls\")\n",
    "df_5['Tỉnh'] = 'Tuyên Quang'\n",
    "df_6=pd.read_excel(\"2_BacKan_GFVQ.xls\")\n",
    "df_6['Tỉnh'] = 'Bắc Cạn'\n",
    "df_7=pd.read_excel(\"2_Ha_Giang_QNCM.xls\")\n",
    "df_7['Tỉnh'] = 'Hà Giang'\n",
    "df_8=pd.read_excel(\"2_Ninh_Thuan_VHLY.xls\")\n",
    "df_8['Tỉnh'] = 'Ninh Thuận'\n",
    "df_9=pd.read_excel(\"2_Thanh_Hoa_AUFV.xls\")\n",
    "df_9['Tỉnh'] = 'Thanh Hóa'\n",
    "df_10=pd.read_excel(\"2_VinhPhuc_GUDK.xls\")\n",
    "df_10['Tỉnh'] = 'Vĩnh Phúc'\n",
    "df_11=pd.read_excel(\"3_BacGiang_TOIF.xls\")\n",
    "df_11['Tỉnh'] = 'Bắc Giang'\n",
    "df_12=pd.read_excel(\"3_BinhPhuoc_YFMU.xls\")\n",
    "df_12['Tỉnh'] = 'Bình Phước'\n",
    "df_13=pd.read_excel(\"3_Cao_Bang_CIEY.xls\")\n",
    "df_13['Tỉnh'] = 'Cao Bằng'\n",
    "df_14=pd.read_excel(\"3_Dong_Thap_GSXQ.xls\")\n",
    "df_14['Tỉnh'] = 'Đồng Tháp'\n",
    "df_15=pd.read_excel(\"3_Thua_Thien_Hue_HMDB.xls\")\n",
    "df_15['Tỉnh'] = 'Thừa Thiên Huế'\n",
    "df_16=pd.read_excel(\"4_An_Giang_JNOS.xls\")\n",
    "df_16['Tỉnh'] = 'An Giang'\n",
    "df_17=pd.read_excel(\"4_BacNinh_STLR.xls\")\n",
    "df_17['Tỉnh'] = 'Bắc Ninh'\n",
    "df_18=pd.read_excel(\"4_Binh_Dinh_WWZW.xls\")\n",
    "df_18['Tỉnh'] = 'Bình Định'\n",
    "df_19=pd.read_excel(\"4_DienBien_SOJG.xls\")\n",
    "df_19['Tỉnh'] = 'Điện Biên'\n",
    "df_20=pd.read_excel(\"4_Lang_Son_NYQL.xls\")\n",
    "df_20['Tỉnh'] = 'Lạng Sơn'\n",
    "df_21=pd.read_excel(\"5_Bac_Lieu_XEKH.xls\")\n",
    "df_21['Tỉnh'] = 'Bạc Liêu'\n",
    "df_22=pd.read_excel(\"5_Gia_Lai_ABZI.xls\")\n",
    "df_22['Tỉnh'] = 'Gia Lai'\n",
    "df_23=pd.read_excel(\"5_HaiDuong_WWWG.xls\")\n",
    "df_23['Tỉnh'] = 'Hải Dương'\n",
    "df_24=pd.read_excel(\"5_Hanam_QGJS.xls\")\n",
    "df_24['Tỉnh'] = 'Hà Nam'\n",
    "df_25=pd.read_excel(\"5_Yen_Bai_FAQR.xls\")\n",
    "df_25['Tỉnh'] = 'Yên Bái'\n",
    "df_26=pd.read_excel(\"6_Dong_Nai_WOTM.xls\")\n",
    "df_26['Tỉnh'] = 'Đồng Nai'\n",
    "df_27=pd.read_excel(\"6_Hau_Giang_KWDM.xls\")\n",
    "df_27['Tỉnh'] = 'Hậu Giang'\n",
    "df_28=pd.read_excel(\"6_HoaBinh_TPZY.xls\")\n",
    "df_28['Tỉnh'] = 'Hòa Bình'\n",
    "df_29=pd.read_excel(\"6_NinhBinh_IGFT.xls\")\n",
    "df_29['Tỉnh'] = 'Ninh Bình'\n",
    "df_30=pd.read_excel(\"6_Quang_Ninh_DQCJ.xls\")\n",
    "df_30['Tỉnh'] = 'Quảng Ninh'\n",
    "df_31=pd.read_excel(\"7_HaTinh_DDHD.xls\")\n",
    "df_31['Tỉnh'] = 'Hà Tĩnh'\n",
    "df_32=pd.read_excel(\"7_HungYen_LTIK.xls\")\n",
    "df_32['Tỉnh'] = 'Hưng Yên'\n",
    "df_33=pd.read_excel(\"7_Kon_Tum_RSLR.xls\")\n",
    "df_33['Tỉnh'] = 'Kon Tum'\n",
    "df_34=pd.read_excel(\"7_Tien_Giang_EFHX.xls\")\n",
    "df_34['Tỉnh'] = 'Tiền Giang'\n",
    "df_35=pd.read_excel(\"8_Can_Tho_RQZM.xls\")\n",
    "df_35['Tỉnh'] = 'Cần Thơ'\n",
    "df_36=pd.read_excel(\"8_Dak_Lak_YKPR.xls\")\n",
    "df_36['Tỉnh'] = 'Đắk Lắk'\n",
    "df_37=pd.read_excel(\"8_KienGiang_OTOB.xls\")\n",
    "df_37['Tỉnh'] = 'Kiên Giang'\n",
    "df_38=pd.read_excel(\"8_PhuYen_OGIM.xls\")\n",
    "df_38['Tỉnh'] = 'Phú Yên'\n",
    "df_39=pd.read_excel(\"9_DakNong_FBOP.xls\")\n",
    "df_39['Tỉnh'] = 'Đắk Nông'\n",
    "df_40=pd.read_excel(\"9_Khanh_Hoa_KPKQ.xls\")\n",
    "df_40['Tỉnh'] = 'Khánh Hòa'\n",
    "df_41=pd.read_excel(\"9_LaiChau_ALKN.xls\")\n",
    "df_41['Tỉnh'] = 'Lai Châu'\n",
    "df_42=pd.read_excel(\"9_Vinh_Long_OLWA.xls\")\n",
    "df_42['Tỉnh'] = 'Vĩnh Long'\n",
    "df_43=pd.read_excel(\"10_BinhThuan_RIIW.xls\")\n",
    "df_43['Tỉnh'] = 'Bình Thuận'\n",
    "df_44=pd.read_excel(\"10_Ca_Mau_BKXT.xls\")\n",
    "df_44['Tỉnh'] = 'Cà Mau'\n",
    "df_45=pd.read_excel(\"10_LamDong_GNFT.xls\")\n",
    "df_45['Tỉnh'] = 'Lâm Đồng'\n",
    "df_46=pd.read_excel(\"10_Soc_Trang_XCGJ.xls\")\n",
    "df_46['Tỉnh'] = 'Sóc Trăng'\n",
    "df_47=pd.read_excel(\"11_BinhDuong_RYQL.xls\")\n",
    "df_47['Tỉnh'] = 'Bình Dương'\n",
    "df_48=pd.read_excel(\"11_LaoCai_GMSU.xls\")\n",
    "df_48['Tỉnh'] = 'Lào Cai'\n",
    "df_49=pd.read_excel(\"12_BenTre_DKWF.xls\")\n",
    "df_49['Tỉnh'] = 'Bến Tre'\n",
    "df_50=pd.read_excel(\"12_LongAn_ZZUK.xls\")\n",
    "df_50['Tỉnh'] = 'Long An'\n",
    "df_51=pd.read_excel(\"13_NamDinh_ESEL.xls\")\n",
    "df_51['Tỉnh'] = 'Nam Định'\n",
    "df_52=pd.read_excel(\"13_TraVinh_LKUJ.xls\")\n",
    "df_52['Tỉnh'] = 'Trà Vinh'\n",
    "df_53=pd.read_excel(\"14_NgheAn_BSLY.xls\")\n",
    "df_53['Tỉnh'] = 'Nghệ An'\n",
    "df_54=pd.read_excel(\"15_PhuTho_ABWQ.xls\")\n",
    "df_54['Tỉnh'] = 'Phú Thọ'\n",
    "df_55=pd.read_excel(\"16_QuangBinh_KGEU.xls\")\n",
    "df_55['Tỉnh'] = 'Quảng Bình'\n",
    "df_56=pd.read_excel(\"17_QuangNam_AMTK.xls\")\n",
    "df_56['Tỉnh'] = 'Quảng Nam'\n",
    "df_57=pd.read_excel(\"18_QuangNgai_KOFP.xls\")\n",
    "df_57['Tỉnh'] = 'Quảng Ngãi'\n",
    "df_58=pd.read_excel(\"19_QuangTri_OMZF.xls\")\n",
    "df_58['Tỉnh'] = 'Quảng Trị'\n",
    "df_59=pd.read_excel(\"20_TayNinh_ILFA.xls\")\n",
    "df_59['Tỉnh'] = 'Tây Ninh'\n",
    "df_60=pd.read_excel(\"21_ThaiBinh_FTVG.xls\")\n",
    "df_60['Tỉnh'] = 'Thái Bình'\n",
    "df_61=pd.read_excel(\"22_ThaiNguyen_TLTW.xls\")\n",
    "df_61['Tỉnh'] = 'Thái Nguyên'\n",
    "df_62=pd.read_excel(\"23_HaiPhong_HXBV.xls\")\n",
    "df_62['Tỉnh'] = 'Hải Phòng'\n",
    "df_63=pd.read_excel(\"24_HCM_XULN.xls\")\n",
    "df_63['Tỉnh'] = 'TP HCM'\n",
    "df_64=pd.read_excel(\"TPHCM.xls\")\n",
    "df_64['Tỉnh'] = 'TP HCM'\n",
    "df_65=pd.read_excel(\"HaNoi.xls\")\n",
    "df_65['Tỉnh'] = 'Hà Nội'"
   ]
  },
  {
   "cell_type": "markdown",
   "metadata": {},
   "source": [
    "***KPDL:*** Việt Nam có 64 tỉnh thành nhưng ở đây lại có 65 file dữ liệu? \n",
    "\n",
    "Mỗi file là dữ liệu của một tỉnh, riêng TPHCM có 2 file do dữ liệu nhiều nên đã được chia thành 2 file\n"
   ]
  },
  {
   "cell_type": "markdown",
   "metadata": {},
   "source": [
    "**Nối dữ liệu lại thành df_2017**"
   ]
  },
  {
   "cell_type": "code",
   "execution_count": null,
   "metadata": {},
   "outputs": [],
   "source": [
    "df_2017=pd.concat([df_1,df_2,df_3,df_4,df_5,df_6,df_7,df_8,df_9,df_10,\n",
    "              df_11,df_12,df_13,df_14,df_15,df_16,df_17,df_18,df_19,df_20,\n",
    "              df_21,df_22,df_23,df_24,df_25,df_26,df_27,df_28,df_29,df_30,\n",
    "              df_31,df_32,df_33,df_34,df_35,df_36,df_37,df_38,df_39,df_40,\n",
    "              df_41,df_42,df_43,df_44,df_45,df_46,df_47,df_48,df_49,df_50,\n",
    "              df_51,df_52,df_53,df_54,df_55,df_56,df_57,df_58,df_59,df_60,\n",
    "              df_61,df_62,df_63,df_64,df_65],axis=0, ignore_index=True)\n",
    "df_2017"
   ]
  },
  {
   "cell_type": "code",
   "execution_count": null,
   "metadata": {},
   "outputs": [],
   "source": [
    "DiemThi=list(df_17['DIEM_THI'])\n",
    "nan=float('NaN')\n",
    "Toan=[nan]*len(DiemThi)\n",
    "Van=[nan]*len(DiemThi)\n",
    "Su=[nan]*len(DiemThi)\n",
    "Dia=[nan]*len(DiemThi)\n",
    "GDCD=[nan]*len(DiemThi)\n",
    "Li=[nan]*len(DiemThi)\n",
    "Hoa=[nan]*len(DiemThi)\n",
    "Sinh=[nan]*len(DiemThi)\n",
    "Anh=[nan]*len(DiemThi)\n",
    "for i in range(len(DiemThi)):\n",
    "    a=str(DiemThi[i])\n",
    "    diem=re.split('   ', a)\n",
    "    try:\n",
    "        index_value = diem.index('Toán:')\n",
    "        Toan[i]=diem[index_value+1]\n",
    "    except ValueError:\n",
    "        index_value = -1\n",
    "    try:\n",
    "        index_value = diem.index('Ngữ văn:')\n",
    "        Van[i]=diem[index_value+1]\n",
    "    except ValueError:\n",
    "        index_value = -1\n",
    "    try:\n",
    "        index_value = diem.index('Lịch sử:')\n",
    "        Su[i]=diem[index_value+1]\n",
    "    except ValueError:\n",
    "        index_value = -1\n",
    "    try:\n",
    "        index_value = diem.index('Địa lí:')\n",
    "        Dia[i]=diem[index_value+1]\n",
    "    except ValueError:\n",
    "        index_value = -1\n",
    "    try:\n",
    "        index_value = diem.index('GDCD:')\n",
    "        GDCD[i]=diem[index_value+1]\n",
    "    except ValueError:\n",
    "        index_value = -1\n",
    "    try:\n",
    "        index_value = diem.index('Vật lí:')\n",
    "        Li[i]=diem[index_value+1]\n",
    "    except ValueError:\n",
    "        index_value = -1\n",
    "    try:\n",
    "        index_value = diem.index('Hóa học:')\n",
    "        Hoa[i]=diem[index_value+1]\n",
    "    except ValueError:\n",
    "        index_value = -1\n",
    "    try:\n",
    "        index_value = diem.index('Sinh học:')\n",
    "        Sinh[i]=diem[index_value+1]\n",
    "    except ValueError:\n",
    "        index_value = -1\n",
    "    try:\n",
    "        index_value = diem.index('Tiếng Anh:')\n",
    "        Anh[i]=diem[index_value+1]\n",
    "    except ValueError:\n",
    "        index_value = -1\n",
    "df_17['Math']=Toan\n",
    "df_17['Viet']=Van\n",
    "df_17['History']=Su\n",
    "df_17['Geography']=Dia\n",
    "df_17['GDCD']=GDCD\n",
    "df_17['Physics']=Li\n",
    "df_17['Chemistry']=Hoa\n",
    "df_17['Biology']=Sinh\n",
    "df_17['English']=Anh\n",
    "df_17"
   ]
  },
  {
   "cell_type": "markdown",
   "metadata": {},
   "source": [
    "### 2. Dữ liệu điểm THPTQG 2018"
   ]
  },
  {
   "cell_type": "code",
   "execution_count": null,
   "metadata": {},
   "outputs": [],
   "source": [
    "df_2018=pd.read_csv(\"THPT 2018 Quoc gia.csv\")\n",
    "df_2018"
   ]
  },
  {
   "cell_type": "markdown",
   "metadata": {},
   "source": [
    "Xuất ra một số mẫu của bảng dữ liệu 2018, ta nhận thấy cột Unnamed:11 chỉ có các giá trị NaN. Cột này có ý nghĩa gì? Liệu có giá trị nào khác NaN? \n",
    "\n",
    "--> Kiểm tra"
   ]
  },
  {
   "cell_type": "code",
   "execution_count": null,
   "metadata": {},
   "outputs": [],
   "source": [
    "df_2018.info()"
   ]
  },
  {
   "cell_type": "markdown",
   "metadata": {},
   "source": [
    "Ta thấy cột Unnamed: 11 không có giá trị nào không phải là NaN. Suy ra là cột trống nên ta sẽ drop cột này"
   ]
  },
  {
   "cell_type": "code",
   "execution_count": null,
   "metadata": {},
   "outputs": [],
   "source": [
    "df_2018.drop(columns='Unnamed: 11', inplace=True)\n",
    "df_2018"
   ]
  },
  {
   "cell_type": "markdown",
   "metadata": {},
   "source": [
    "## 3. 3 câu hỏi cần trả lời"
   ]
  },
  {
   "cell_type": "markdown",
   "metadata": {},
   "source": [
    "**Câu 1:** Vào năm 2018, đã xảy ra vụ gian lận thi cử trong kỳ thi THPTQG2018 tại một số tỉnh thành, trong đó có tỉnh Hà Giang. Hãy phân tích (thống kê, trực quan hóa,...) để chỉ ra có dấu hiệu nghi ngờ gian lận tại tỉnh Hà Giang."
   ]
  },
  {
   "cell_type": "markdown",
   "metadata": {},
   "source": [
    "**Câu 2:** Năm 2017 có cùng hình thức thi và cách tổ chức thi THPTQG năm 2018, vậy có thể có việc gian lận từ năm 2017 ở tỉnh Hà Giang không?"
   ]
  },
  {
   "cell_type": "markdown",
   "metadata": {},
   "source": [
    "**Câu 3:** "
   ]
  },
  {
   "cell_type": "markdown",
   "metadata": {},
   "source": [
    "## 4. Tìm câu trả lời"
   ]
  },
  {
   "cell_type": "markdown",
   "metadata": {},
   "source": [
    "**Câu 1:** Vào năm 2018, đã xảy ra vụ gian lận thi cử trong kỳ thi THPTQG2018 tại một số tỉnh thành, trong đó có tỉnh Hà Giang. Hãy phân tích để chỉ ra có dấu hiệu nghi ngờ gian lận tại tỉnh Hà Giang."
   ]
  },
  {
   "cell_type": "code",
   "execution_count": null,
   "metadata": {},
   "outputs": [],
   "source": [
    "df_2018_HG = df_2018[(df_2018['SoBD']>=5000000)&(df_2018['SoBD']<6000000)]\n",
    "HG_Math = df_2018_HG.dropna(subset=['Math'])['Math']\n",
    "TQ_Math = df_2018.dropna(subset=['Math'])['Math']"
   ]
  },
  {
   "cell_type": "code",
   "execution_count": null,
   "metadata": {},
   "outputs": [],
   "source": [
    "def plot_histogram(ha_giang, toan_quoc, str_mon, str_nam,step):\n",
    "    bins = np.linspace(0, 10, int(10/step))\n",
    "    plt.figure(figsize=(19,8))\n",
    "    plt.hist(toan_quoc, bins, alpha=0.3, label='Toàn quốc', density=True)\n",
    "    plt.hist(ha_giang, bins, alpha=0.5, label='Hà Giang', density=True)\n",
    "    plt.title('Histogram môn '+str_mon+' ở Hà Giang VS trên Toàn quốc '+str_nam)\n",
    "    plt.xlabel('Grade')\n",
    "    plt.ylabel('Proportion per grade')\n",
    "    plt.xticks(np.arange(0, 10+step, step))\n",
    "    plt.axvline(np.median(ha_giang), color='red', label='Median Hà Giang')\n",
    "    plt.axvline(np.mean(ha_giang), color='yellow', label='Mean Hà Giang')\n",
    "    plt.axvline(np.median(toan_quoc), color='darkblue', label='Median Toàn Quốc')\n",
    "    plt.axvline(np.mean(toan_quoc), color='green', label='Mean Toàn Quốc')\n",
    "    plt.legend();"
   ]
  },
  {
   "cell_type": "code",
   "execution_count": null,
   "metadata": {},
   "outputs": [],
   "source": [
    "plot_histogram(HG_Math,TQ_Math,'Toán','2018',0.2)"
   ]
  },
  {
   "cell_type": "markdown",
   "metadata": {},
   "source": [
    "Nhận xét: \n",
    "\n",
    "Khi vẽ histogram điểm toán ở Hà Giang VS Toàn quốc thì ta thấy mật độ có điểm từ 9 đến 10 thì cao hơn so với Toàn quốc. Đặc biệt ở điểm 9 thì mật độ cao hơn rõ một cách bất thường. Trong khi đoạn điểm từ 7 đến 8 thì Hà Giang đã có chiều hướng giảm và thấp hơn rất nhiều so với toàn quốc.\n",
    "\n",
    "Ngoài ra, dữ liệu toàn quốc lệch về bên phải ("
   ]
  },
  {
   "cell_type": "markdown",
   "metadata": {},
   "source": [
    "**Điều này cũng tương tự xảy ra với các môn Vật lý, Hóa học (đặc biệt là môn Vật lý).**"
   ]
  },
  {
   "cell_type": "code",
   "execution_count": null,
   "metadata": {},
   "outputs": [],
   "source": [
    "HG_Physics = df_2018_HG.dropna(subset=['Physics'])['Physics']\n",
    "TQ_Physics = df_2018.dropna(subset=['Physics'])['Physics']\n",
    "plot_histogram(HG_Physics,TQ_Physics,'Vật lí','2018',0.25)"
   ]
  },
  {
   "cell_type": "code",
   "execution_count": null,
   "metadata": {},
   "outputs": [],
   "source": [
    "HG_Chemistry = df_2018_HG.dropna(subset=['Chemistry'])['Chemistry']\n",
    "TQ_Chemistry = df_2018.dropna(subset=['Chemistry'])['Chemistry']\n",
    "plot_histogram(HG_Chemistry,TQ_Chemistry,'Hóa học','2018',0.25)"
   ]
  },
  {
   "cell_type": "markdown",
   "metadata": {},
   "source": [
    "**Môn Sinh học không thấy được dấu hiệu rõ ràng**"
   ]
  },
  {
   "cell_type": "code",
   "execution_count": null,
   "metadata": {},
   "outputs": [],
   "source": [
    "HG_Biology = df_2018_HG.dropna(subset=['Biology'])['Biology']\n",
    "TQ_Biology= df_2018.dropna(subset=['Biology'])['Biology']\n",
    "plot_histogram(HG_Biology,TQ_Biology,'Sinh học','2018',0.25)"
   ]
  },
  {
   "cell_type": "markdown",
   "metadata": {},
   "source": [
    "**Đối với các môn xã hội thì không thấy bất thường ở những điểm cao tại Hà Giang**"
   ]
  },
  {
   "cell_type": "code",
   "execution_count": null,
   "metadata": {},
   "outputs": [],
   "source": [
    "HG_History = df_2018_HG.dropna(subset=['History'])['History']\n",
    "TQ_History= df_2018.dropna(subset=['History'])['History']\n",
    "plot_histogram(HG_History,TQ_History,'Lịch sử','2018',0.25)"
   ]
  },
  {
   "cell_type": "code",
   "execution_count": null,
   "metadata": {},
   "outputs": [],
   "source": [
    "HG_Geography = df_2018_HG.dropna(subset=['Geography'])['Geography']\n",
    "TQ_Geography= df_2018.dropna(subset=['Geography'])['Geography']\n",
    "plot_histogram(HG_Geography,TQ_Geography,'Địa lý','2018',0.25)"
   ]
  },
  {
   "cell_type": "code",
   "execution_count": null,
   "metadata": {},
   "outputs": [],
   "source": [
    "HG_Viet = df_2018_HG.dropna(subset=['Viet'])['Viet']\n",
    "TQ_Viet= df_2018.dropna(subset=['Viet'])['Viet']\n",
    "plot_histogram(HG_Viet,TQ_Viet,'Ngữ văn','2018',0.25)"
   ]
  },
  {
   "cell_type": "code",
   "execution_count": null,
   "metadata": {},
   "outputs": [],
   "source": [
    "HG_English = df_2018_HG.dropna(subset=['English'])['English']\n",
    "TQ_English= df_2018.dropna(subset=['English'])['English']\n",
    "plot_histogram(HG_English,TQ_English,'Tiếng Anh','2018',0.25)"
   ]
  },
  {
   "cell_type": "code",
   "execution_count": null,
   "metadata": {},
   "outputs": [],
   "source": []
  },
  {
   "cell_type": "markdown",
   "metadata": {},
   "source": [
    "## 5. Nhìn lại quá trình thực hiện"
   ]
  },
  {
   "cell_type": "markdown",
   "metadata": {},
   "source": [
    "## 6. Tài liệu tham khảo"
   ]
  }
 ],
 "metadata": {
  "kernelspec": {
   "display_name": "Python 3",
   "language": "python",
   "name": "python3"
  },
  "language_info": {
   "codemirror_mode": {
    "name": "ipython",
    "version": 3
   },
   "file_extension": ".py",
   "mimetype": "text/x-python",
   "name": "python",
   "nbconvert_exporter": "python",
   "pygments_lexer": "ipython3",
   "version": "3.7.4"
  }
 },
 "nbformat": 4,
 "nbformat_minor": 2
}
